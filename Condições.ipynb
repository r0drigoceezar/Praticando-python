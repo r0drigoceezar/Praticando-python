{
 "cells": [
  {
   "cell_type": "markdown",
   "id": "57dc6673",
   "metadata": {},
   "source": [
    "## Condições "
   ]
  },
  {
   "cell_type": "markdown",
   "id": "cba5c1e8",
   "metadata": {},
   "source": [
    "## If e Else"
   ]
  },
  {
   "cell_type": "markdown",
   "id": "82e6f5ef",
   "metadata": {},
   "source": [
    "### Estrutura IF e ELSE\n",
    "\n",
    "    if condição:\n",
    "        o que fazer caso a condição seja verdadeira\n",
    "    else:\n",
    "        o que fazer caso a condição seja falsa\n"
   ]
  },
  {
   "cell_type": "code",
   "execution_count": 13,
   "id": "169dc6d4",
   "metadata": {},
   "outputs": [
    {
     "name": "stdout",
     "output_type": "stream",
     "text": [
      "Não batemos a meta de vendas de iphone, vendemos 30000 unidades. A meta era de 50000 unidades. Faltou vender 20000 unidades\n"
     ]
    }
   ],
   "source": [
    "meta = 50000\n",
    "qtd_vendida = 30000\n",
    "resto = meta - qtd_vendida\n",
    "\n",
    "if qtd_vendida > meta:\n",
    "    print ('Batemos a meta de vendas de iphone, vendemos {} unidades'.format(qtd_vendida))\n",
    "else:\n",
    "    print('Não batemos a meta de vendas de iphone, vendemos {} unidades. A meta era de {} unidades. Faltou vender {} unidades'.format(qtd_vendida,meta,resto))"
   ]
  },
  {
   "cell_type": "markdown",
   "id": "ca3fe788",
   "metadata": {},
   "source": [
    "## Exemplo\n",
    "Vamos fazer um novo exemplo abaixo:\n",
    "\n",
    "Digamos que você precisa criar um programa para um fundo de investimentos conseguir avaliar o resultado de uma carteira de ações e o quanto de taxa deverá ser pago.\n",
    "\n",
    "A regra desse fundo de investimentos é:\n",
    "\n",
    "- O fundo se compromete a entregar no mínimo 5% de retorno ao ano.\n",
    "- Caso o fundo não consiga entregar os 5% de retorno, ele não pode cobrar taxa dos seus investidores.\n",
    "- Caso o fundo consiga entregar mais de 5% de retorno, ele irá cobrar 2% de taxa dos seus investidores.\n",
    "- Caso o fundo consiga mais de 20% de retorno, ele irá cobrar 4% de taxa dos seus investidores."
   ]
  },
  {
   "cell_type": "code",
   "execution_count": 25,
   "id": "048be126",
   "metadata": {},
   "outputs": [
    {
     "name": "stdout",
     "output_type": "stream",
     "text": [
      "A taxa foi de: 0.04\n"
     ]
    }
   ],
   "source": [
    "# Uma condição dentro de uma outra condição, ou seja, se uma condição for verdadeira e se a condição 2 for verdadeira também\n",
    "#execute a condição\n",
    "meta = 0.05\n",
    "taxa = 0\n",
    "rendimento = 0.25\n",
    "\n",
    "if rendimento > meta:\n",
    "    if rendimento > 0.20:\n",
    "        taxa = 0.04\n",
    "        print('A taxa foi de: {}'.format(taxa))\n",
    "    else:\n",
    "        taxa = 0.2\n",
    "        print('A taxa foi de: {}'.format(taxa))\n",
    "else:\n",
    "    taxa = 0\n",
    "    print('A taxa foi de: {}'.format(taxa))"
   ]
  },
  {
   "cell_type": "markdown",
   "id": "d43c61b6",
   "metadata": {},
   "source": []
  }
 ],
 "metadata": {
  "kernelspec": {
   "display_name": "Python 3 (ipykernel)",
   "language": "python",
   "name": "python3"
  },
  "language_info": {
   "codemirror_mode": {
    "name": "ipython",
    "version": 3
   },
   "file_extension": ".py",
   "mimetype": "text/x-python",
   "name": "python",
   "nbconvert_exporter": "python",
   "pygments_lexer": "ipython3",
   "version": "3.9.7"
  }
 },
 "nbformat": 4,
 "nbformat_minor": 5
}
