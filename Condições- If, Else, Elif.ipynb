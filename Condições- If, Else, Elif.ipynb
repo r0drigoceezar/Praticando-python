{
 "cells": [
  {
   "cell_type": "markdown",
   "id": "57dc6673",
   "metadata": {},
   "source": [
    "## Condições "
   ]
  },
  {
   "cell_type": "markdown",
   "id": "cba5c1e8",
   "metadata": {},
   "source": [
    "## If e Else"
   ]
  },
  {
   "cell_type": "markdown",
   "id": "82e6f5ef",
   "metadata": {},
   "source": [
    "### Estrutura IF e ELSE\n",
    "\n",
    "    if condição:\n",
    "        o que fazer caso a condição seja verdadeira\n",
    "    else:\n",
    "        o que fazer caso a condição seja falsa\n"
   ]
  },
  {
   "cell_type": "code",
   "execution_count": 1,
   "id": "169dc6d4",
   "metadata": {},
   "outputs": [
    {
     "name": "stdout",
     "output_type": "stream",
     "text": [
      "Não batemos a meta de vendas de iphone, vendemos 30000 unidades. A meta era de 50000 unidades. Faltou vender 20000 unidades\n"
     ]
    }
   ],
   "source": [
    "meta = 50000\n",
    "qtd_vendida = 30000\n",
    "resto = meta - qtd_vendida\n",
    "\n",
    "if qtd_vendida > meta:\n",
    "    print ('Batemos a meta de vendas de iphone, vendemos {} unidades'.format(qtd_vendida))\n",
    "else:\n",
    "    print('Não batemos a meta de vendas de iphone, vendemos {} unidades. A meta era de {} unidades. Faltou vender {} unidades'.format(qtd_vendida,meta,resto))"
   ]
  },
  {
   "cell_type": "markdown",
   "id": "ca3fe788",
   "metadata": {},
   "source": [
    "### Exemplo IF IF\n",
    "Vamos fazer um novo exemplo abaixo:\n",
    "\n",
    "Digamos que você precisa criar um programa para um fundo de investimentos conseguir avaliar o resultado de uma carteira de ações e o quanto de taxa deverá ser pago.\n",
    "\n",
    "A regra desse fundo de investimentos é:\n",
    "\n",
    "- O fundo se compromete a entregar no mínimo 5% de retorno ao ano.\n",
    "- Caso o fundo não consiga entregar os 5% de retorno, ele não pode cobrar taxa dos seus investidores.\n",
    "- Caso o fundo consiga entregar mais de 5% de retorno, ele irá cobrar 2% de taxa dos seus investidores.\n",
    "- Caso o fundo consiga mais de 20% de retorno, ele irá cobrar 4% de taxa dos seus investidores."
   ]
  },
  {
   "cell_type": "code",
   "execution_count": 2,
   "id": "048be126",
   "metadata": {},
   "outputs": [
    {
     "name": "stdout",
     "output_type": "stream",
     "text": [
      "A taxa foi de: 0.04\n"
     ]
    }
   ],
   "source": [
    "# Uma condição dentro de uma outra condição, ou seja, se uma condição for verdadeira e se a condição 2 for verdadeira também\n",
    "#execute a condição\n",
    "meta = 0.05\n",
    "taxa = 0\n",
    "rendimento = 0.25\n",
    "\n",
    "if rendimento > meta:\n",
    "    if rendimento > 0.20:\n",
    "        taxa = 0.04\n",
    "        print('A taxa foi de: {}'.format(taxa))\n",
    "    else:\n",
    "        taxa = 0.2\n",
    "        print('A taxa foi de: {}'.format(taxa))\n",
    "else:\n",
    "    taxa = 0\n",
    "    print('A taxa foi de: {}'.format(taxa))"
   ]
  },
  {
   "cell_type": "markdown",
   "id": "d43c61b6",
   "metadata": {},
   "source": [
    "### Exemplo: IF ELIF\n",
    "\n",
    "Vamos criar um programa para analisar o bônus dos funcionários de uma empresa (pode parecer \"simples\", mas uma empresa como a Amazon tem 900.000 funcionários)\n",
    "\n",
    "Para os cargos de vendedores, a regra do bônus é de acordo com a meta de vendas da pessoa:\n",
    "\n",
    "Se ela vendeu abaixo da meta dela, ela não ganha bônus.\n",
    "\n",
    "Se ela vendeu acima da meta dela, ela ganha como bônus 3% do valor que ela vendeu.\n",
    "\n",
    "Se ela vendeu mais do que o dobro da meta dela, ela ganha como bônus 7% do valor que ela vendeu.\n",
    "\n",
    "Vamos criar um programa para avaliar uma pessoa que tinha como meta de vendas 20.000 reais e calcular o bônus dela de acordo com o valor de vendas que ela tiver."
   ]
  },
  {
   "cell_type": "code",
   "execution_count": 6,
   "id": "b3e400f8",
   "metadata": {},
   "outputs": [
    {
     "name": "stdout",
     "output_type": "stream",
     "text": [
      "Não ganhou bonus\n"
     ]
    }
   ],
   "source": [
    "meta = 20000\n",
    "vendas = 1500\n",
    "\n",
    "if vendas < meta:\n",
    "    print('Não ganhou bonus')\n",
    "elif vendas > (meta*2):\n",
    "    bonus = 0.07 * vendas\n",
    "    print('Ganhou {} de bonus'.format(bonus))\n",
    "else:\n",
    "    bonus = 0.03 * vendas\n",
    "    print('Ganhou {} de bonus'.format(bonus))\n"
   ]
  },
  {
   "cell_type": "code",
   "execution_count": 14,
   "id": "d74fc122",
   "metadata": {},
   "outputs": [
    {
     "name": "stdout",
     "output_type": "stream",
     "text": [
      "Digite seu nome: \n",
      "Rodrigo\n",
      "Digite seu numero de vendas: \n",
      " 50000\n",
      "Parabêns, Rodrigo seu bônus foi de 7%. Seu ganho total foi de R$3500\n"
     ]
    }
   ],
   "source": [
    "# De uma maneira um pouco melhor\n",
    "\n",
    "nome = str(input('Digite seu nome: \\n'))\n",
    "vendas = float(input('Digite seu numero de vendas: \\n '))\n",
    "metas = 20000\n",
    "bonus = 0\n",
    "\n",
    "if vendas >= meta*2:\n",
    "    bonus = 0.07\n",
    "    print('Parabêns, {} seu bônus foi de {:.0f}%. Seu ganho total foi de R${:.0f}'.format(nome,bonus*100,bonus * vendas))\n",
    "elif vendas >= meta:\n",
    "    bonus = 0.03\n",
    "    print('Parabêns, {} seu bônus foi de {:.0f}%. Seu ganho total foi de R${:.0f}'.format(nome,bonus*100,bonus * vendas))\n",
    "else:\n",
    "    bonus = 0\n",
    "    print('Sinto muito, você não teve bônus :( ')"
   ]
  },
  {
   "cell_type": "markdown",
   "id": "aa653795",
   "metadata": {},
   "source": [
    "# Comparadores\n",
    "\n",
    "- == igual\n",
    "\n",
    "- != diferente\n",
    "\n",
    "- (>) maior que (>= maior ou igual)\n",
    "\n",
    "- < menor que (<= menor ou igual)\n",
    "\n",
    "- in texto dentro de outro texto\n",
    "\n",
    "- not verifica o contrário da comparação\n",
    "\n",
    "- pass para n fazer nada "
   ]
  },
  {
   "cell_type": "code",
   "execution_count": 17,
   "id": "ccdf17d0",
   "metadata": {},
   "outputs": [
    {
     "name": "stdout",
     "output_type": "stream",
     "text": [
      "Faturamentos diferentes\n"
     ]
    }
   ],
   "source": [
    "fat_loja1 = 1500\n",
    "fat_loja2 = 1200\n",
    "\n",
    "if fat_loja1 == fat_loja2:\n",
    "    print('Mesmos faturamentos')\n",
    "else:\n",
    "    print('Faturamentos diferentes')"
   ]
  },
  {
   "cell_type": "code",
   "execution_count": 21,
   "id": "3dc8081c",
   "metadata": {},
   "outputs": [
    {
     "name": "stdout",
     "output_type": "stream",
     "text": [
      "Não é o email do rod\n"
     ]
    }
   ],
   "source": [
    "email = 'rodgmail.com'\n",
    "\n",
    "if email != 'rod@gmail.com':\n",
    "    print('Não é o email do rod')\n",
    "else:\n",
    "    print('É o email do rod')"
   ]
  },
  {
   "cell_type": "code",
   "execution_count": 27,
   "id": "3540dfb1",
   "metadata": {},
   "outputs": [
    {
     "name": "stdout",
     "output_type": "stream",
     "text": [
      "Qual seu email?rod@gmail.com\n",
      "É um email válido\n"
     ]
    }
   ],
   "source": [
    "email_usuario = input('Qual seu email?')\n",
    "if not '@' in email_usuario:\n",
    "    print('Não é um email valido')\n",
    "else:\n",
    "    print('É um email válido')"
   ]
  },
  {
   "cell_type": "code",
   "execution_count": 28,
   "id": "9bf697cd",
   "metadata": {},
   "outputs": [
    {
     "name": "stdout",
     "output_type": "stream",
     "text": [
      "Qual seu email?rod@gmail.com\n"
     ]
    }
   ],
   "source": [
    "email_usuario2 = input('Qual seu email?')\n",
    "if not '@' in email_usuario:\n",
    "    print('Não é um email valido')\n",
    "else:\n",
    "    pass"
   ]
  },
  {
   "cell_type": "markdown",
   "id": "89145d38",
   "metadata": {},
   "source": [
    "# EXERCICIOS IF\n"
   ]
  },
  {
   "cell_type": "markdown",
   "id": "440e5911",
   "metadata": {},
   "source": [
    "## 1. Cálculo de Bônus\n",
    "\n",
    "- Crie um programa que calcule e dê um print no bônus que os funcionários devem receber segundo a regra:\n",
    "\n",
    "A meta é 1000 vendas.<br> \n",
    "Se o valor de vendas for maior ou igual a meta, o valor do bônus do funcionário é 10% do valor de vendas.<br>\n",
    "Caso contrário o valor de bônus do funcionário é 0.<br>\n",
    "Print o bônus dos 3 funcionários"
   ]
  },
  {
   "cell_type": "code",
   "execution_count": 30,
   "id": "ea7946b2",
   "metadata": {},
   "outputs": [],
   "source": [
    "vendas_funcionario1 = 1000\n",
    "vendas_funcionario2 = 770\n",
    "vendas_funcionario3 = 2700"
   ]
  },
  {
   "cell_type": "code",
   "execution_count": 39,
   "id": "0f524fd6",
   "metadata": {},
   "outputs": [
    {
     "name": "stdout",
     "output_type": "stream",
     "text": [
      "O bonus do funcionario 1 é de 100.0\n",
      "O bonus do funcionario 2 foi 0\n",
      "O bonus de funcionario 3 foi de 270.0\n"
     ]
    }
   ],
   "source": [
    "meta = 1000\n",
    "\n",
    "if vendas_funcionario1 >= meta:\n",
    "    print('O bonus do funcionario 1 é de {}'.format(vendas_funcionario1 * 0.1))\n",
    "if vendas_funcionario2 >= meta:\n",
    "    bonus = vendas_funcionario2 * 0.1\n",
    "    print('O bonus do funcionario 2 é de {}'.format(vendas_funcionario2))\n",
    "else:\n",
    "    print('O bonus do funcionario 2 foi 0')\n",
    "if vendas_funcionario3 >= meta:\n",
    "    bonus = vendas_funcionario3 * 0.1\n",
    "else:\n",
    "    bonus = 0\n",
    "print('O bonus de funcionario 3 foi de {}'.format(bonus))"
   ]
  },
  {
   "cell_type": "markdown",
   "id": "e2f96f37",
   "metadata": {},
   "source": [
    "## 2. Cálculo de bônus com uma nova regra\n",
    "\n",
    "- Agora, crie um novo código que calcule e dê um print no bônus dos funcionários novamente. Porém há uma nova regra nesse 2º caso:\n",
    "\n",
    "A meta é 1000 vendas<br>\n",
    "Agora, os funcionários que venderem muito acima da meta ganham mais bônus do que os outros. Então o bônus é definido da seguinte forma:<br>\n",
    "\n",
    "- Se vendas funcionário for maior ou igual a 2000, então o bônus é de 15% sobre o valor de vendas\n",
    "- Se vendas funcionário for menor do que 2000 e maior ou igual a 1000, então o bônus é de 10% sobre o valor de vendas\n",
    "- Se vendas funcionário for menos do que 1000 então o bônus do funcionário é de 0.\n",
    "\n",
    "Use as mesmas variáveis de vendas_funcionários"
   ]
  },
  {
   "cell_type": "code",
   "execution_count": 47,
   "id": "0f197532",
   "metadata": {},
   "outputs": [
    {
     "name": "stdout",
     "output_type": "stream",
     "text": [
      "O bonus do funcionario 1 é de 100.0\n",
      "O bonus do funcionario 2 é de 0\n",
      "O bonus do funcionario 3 é de 405.0\n"
     ]
    }
   ],
   "source": [
    "#1° maneira if if\n",
    "if vendas_funcionario1 >= 1000:\n",
    "    if vendas_funcionario1 >= 2000:\n",
    "        bonus = .15 * vendas_funcionario1\n",
    "    else:\n",
    "        bonus = 0.1 * vendas_funcionario1\n",
    "else:\n",
    "    bonus = 0\n",
    "print('O bonus do funcionario 1 é de {}'.format(bonus))\n",
    "\n",
    "if vendas_funcionario2 >= 1000:\n",
    "    if vendas_funcionario2 >= 2000:\n",
    "        bonus = .15 * vendas_funcionario2\n",
    "    else:\n",
    "        bonus = 0.1 * vendas_funcionario2\n",
    "else:\n",
    "    bonus = 0\n",
    "print('O bonus do funcionario 2 é de {}'.format(bonus))\n",
    "\n",
    "if vendas_funcionario3 >= 1000:\n",
    "    if vendas_funcionario3 >= 2000:\n",
    "        bonus = .15 * vendas_funcionario3\n",
    "    else:\n",
    "        bonus = 0.1 * vendas_funcionario3\n",
    "else:\n",
    "    bonus = 0\n",
    "print('O bonus do funcionario 3 é de {}'.format(bonus))\n",
    "\n",
    "\n"
   ]
  },
  {
   "cell_type": "code",
   "execution_count": 52,
   "id": "c159c5fd",
   "metadata": {},
   "outputs": [
    {
     "name": "stdout",
     "output_type": "stream",
     "text": [
      "O bonus do funcionario 1 é 100.0\n",
      "O bonus do funcionario 2 é 0\n",
      "O bonus do funcionario 3 é 405.0\n"
     ]
    }
   ],
   "source": [
    "# 2° maneira if elif\n",
    "\n",
    "if vendas_funcionario1 >= 2000:\n",
    "    bonus = 0.15 * vendas_funcionario1\n",
    "    print('O bonus do funcionario 1 é {}'.format(bonus))\n",
    "elif vendas_funcionario1 >= 1000:\n",
    "    bonus = 0.1 * vendas_funcionario1\n",
    "    print('O bonus do funcionario 1 é {}'.format(bonus))\n",
    "else:\n",
    "    print('O bonus do funcionario 1 é 0')\n",
    "\n",
    "if vendas_funcionario2 >= 2000:\n",
    "    bonus = 0.15 * vendas_funcionario2\n",
    "elif vendas_funcionario2 >= 1000:\n",
    "    bonus = 0.1 * vendas_funcionario2\n",
    "else:\n",
    "    print('O bonus do funcionario 2 é 0')\n",
    "    \n",
    "if vendas_funcionario3 >= 2000:\n",
    "    bonus = 0.15 * vendas_funcionario3\n",
    "    print('O bonus do funcionario 3 é {}'.format(bonus))\n",
    "elif vendas_funcionario3 >= 1000:\n",
    "    bonus = 0.1 * vendas_funcionario3\n",
    "    print('O bonus do funcionario 3 é {}'.format(bonus))\n",
    "else:\n",
    "    print('O bonus do funcionario 3 é 0')    "
   ]
  },
  {
   "cell_type": "markdown",
   "id": "ebbf05a1",
   "metadata": {},
   "source": [
    "# IF COM DUAS CONDIÇÕES SIMULTANEAS ( AND E OR)"
   ]
  },
  {
   "cell_type": "markdown",
   "id": "d6678436",
   "metadata": {},
   "source": [
    "if condição 1 and condição 2:\n",
    "    <p> vai ser executado se as duas condições forem verdadeira\n",
    "\n",
    "\n",
    "if condiçaõ1 or condição 2:\n",
    "    <p> vai ser executado se pelo menos uma das duas condições for verdadeira"
   ]
  },
  {
   "cell_type": "markdown",
   "id": "53c50c06",
   "metadata": {},
   "source": [
    "### Exemplo\n",
    "\n",
    "Vamos voltar ao exemplo de cálculo de meta de vendas dos funcionários. Muitas empresas atribuem bonificação do salário dos funcionários de acordo com o resultado do funcionário e também com o resultado da empresa como um todo.\n",
    "\n",
    "Nesse caso, a regra funciona da seguinte forma:\n",
    "- Se o funcionário vendeu mais do que a meta de vendas e a loja bateu a meta de vendas da loja, o funcionário ganha 3% do que ele vendeu em forma de bônus.\n",
    "- Caso o funcionário tenha batido a meta de vendas individual dele, mas a loja não tenha batido a meta de vendas da loja como um todo, o funcionário não ganha bônus."
   ]
  },
  {
   "cell_type": "code",
   "execution_count": 60,
   "id": "8ed255f1",
   "metadata": {},
   "outputs": [
    {
     "name": "stdout",
     "output_type": "stream",
     "text": [
      "bonus do funcionario foi de 450.0\n"
     ]
    }
   ],
   "source": [
    "meta_func = 10000\n",
    "meta_loja = 25000\n",
    "vendas_funcionario = 15000\n",
    "vendas_loja = 280000\n",
    "\n",
    "if vendas_funcionario and vendas_loja > meta_loja:\n",
    "    bonus = 0.03 * vendas_funcionario\n",
    "    print('bonus do funcionario foi de {}'.format(bonus))\n",
    "else:\n",
    "    print('sem bonus')"
   ]
  },
  {
   "cell_type": "markdown",
   "id": "e4156813",
   "metadata": {},
   "source": [
    "### Outro exemplo\n",
    "\n",
    "Agora vamos levar essa análise mais a fundo.\n",
    "\n",
    "Nessa empresa, existe um outro caso também que garante que o funcionário ganhe um bônus, independente das vendas que ele fez naquele mês.\n",
    "\n",
    "Todo mês os diretores da empresa fazem uma avaliação qualitativa de todos os funcionários. Nessa avaliação os diretores dão uma nota de 0 a 10 para cada funcionário. Se a nota do funcionário for 9 ou 10, ele também ganha o bônus de 3% do valor de vendas. (os bônus não são cumulativos)"
   ]
  },
  {
   "cell_type": "code",
   "execution_count": null,
   "id": "8c063286",
   "metadata": {},
   "outputs": [],
   "source": [
    "nota_func = 9\n",
    "meta_nota = 9\n",
    "\n",
    "\n",
    "if nota_func >= meta_nota:\n",
    "    bonus = 0.03 * vendas_funcionario\n",
    "    print('Bonus igual a {}'.format(bonus))\n",
    "else: \n",
    "    "
   ]
  }
 ],
 "metadata": {
  "kernelspec": {
   "display_name": "Python 3 (ipykernel)",
   "language": "python",
   "name": "python3"
  },
  "language_info": {
   "codemirror_mode": {
    "name": "ipython",
    "version": 3
   },
   "file_extension": ".py",
   "mimetype": "text/x-python",
   "name": "python",
   "nbconvert_exporter": "python",
   "pygments_lexer": "ipython3",
   "version": "3.9.7"
  }
 },
 "nbformat": 4,
 "nbformat_minor": 5
}
