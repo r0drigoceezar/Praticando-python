{
 "cells": [
  {
   "cell_type": "markdown",
   "id": "008999fd",
   "metadata": {},
   "source": [
    "# Python para DataScience - Curso Alura"
   ]
  },
  {
   "cell_type": "markdown",
   "id": "1e92a517",
   "metadata": {},
   "source": [
    "### Criando minha primeira função"
   ]
  },
  {
   "cell_type": "code",
   "execution_count": 3,
   "id": "6bea99d6",
   "metadata": {},
   "outputs": [],
   "source": [
    "def saudacao():\n",
    "    nome = input('Qual seu nome?')\n",
    "    print('Olá {}'.format(nome))"
   ]
  },
  {
   "cell_type": "code",
   "execution_count": 4,
   "id": "842d2472",
   "metadata": {},
   "outputs": [
    {
     "name": "stdout",
     "output_type": "stream",
     "text": [
      "Qual seu nome?Rodrigo\n",
      "Olá Rodrigo\n"
     ]
    }
   ],
   "source": [
    "saudacao()"
   ]
  },
  {
   "cell_type": "code",
   "execution_count": 11,
   "id": "ccdd0c15",
   "metadata": {},
   "outputs": [],
   "source": [
    "name = 'Rodrigo'"
   ]
  },
  {
   "cell_type": "code",
   "execution_count": 9,
   "id": "edae11d7",
   "metadata": {},
   "outputs": [],
   "source": [
    "def saudacao_com_parametro(nome_da_pessoa):\n",
    "    print(f'Olá {nome_da_pessoa}')"
   ]
  },
  {
   "cell_type": "code",
   "execution_count": 12,
   "id": "f3b20360",
   "metadata": {},
   "outputs": [
    {
     "name": "stdout",
     "output_type": "stream",
     "text": [
      "Olá Rodrigo\n"
     ]
    }
   ],
   "source": [
    "saudacao_com_parametro(name)"
   ]
  },
  {
   "cell_type": "markdown",
   "id": "6decad97",
   "metadata": {},
   "source": [
    "### Condicional"
   ]
  },
  {
   "cell_type": "code",
   "execution_count": 13,
   "id": "4f49c27e",
   "metadata": {},
   "outputs": [],
   "source": [
    "idade = 20"
   ]
  },
  {
   "cell_type": "code",
   "execution_count": 16,
   "id": "bd6ccbe4",
   "metadata": {},
   "outputs": [],
   "source": [
    "def permissao_dirigir(idade_da_pessoa):\n",
    "    if idade >= 18:\n",
    "        print('Pode dirigir')\n",
    "    else:\n",
    "        print('Ainda não tem permissão para dirigir')"
   ]
  },
  {
   "cell_type": "code",
   "execution_count": 17,
   "id": "a6d1a9b3",
   "metadata": {},
   "outputs": [
    {
     "name": "stdout",
     "output_type": "stream",
     "text": [
      "Pode dirigir\n"
     ]
    }
   ],
   "source": [
    "permissao_dirigir(idade)"
   ]
  },
  {
   "cell_type": "markdown",
   "id": "d99a11b1",
   "metadata": {},
   "source": [
    "### Conversão de Tipos para Inteiro"
   ]
  },
  {
   "cell_type": "code",
   "execution_count": 40,
   "id": "0e106c19",
   "metadata": {},
   "outputs": [
    {
     "name": "stdout",
     "output_type": "stream",
     "text": [
      "Qual sua idade? 10\n",
      "Não tem permissão para dirigir\n"
     ]
    }
   ],
   "source": [
    "def permissao_dirigirr():\n",
    "    idade = input('Qual sua idade? ')\n",
    "    idade = int(idade)\n",
    "    if idade >=18:\n",
    "        print('Pode dirigir')\n",
    "    else:\n",
    "        print('Não tem permissão para dirigir')\n",
    "permissao_dirigirr()"
   ]
  },
  {
   "cell_type": "markdown",
   "id": "11057148",
   "metadata": {},
   "source": [
    "### Criando uma lista"
   ]
  },
  {
   "cell_type": "code",
   "execution_count": 45,
   "id": "f45e190a",
   "metadata": {},
   "outputs": [
    {
     "data": {
      "text/plain": [
       "int"
      ]
     },
     "execution_count": 45,
     "metadata": {},
     "output_type": "execute_result"
    }
   ],
   "source": [
    "idade = 12\n",
    "idade\n",
    "type(idade)"
   ]
  },
  {
   "cell_type": "code",
   "execution_count": 47,
   "id": "f830aed1",
   "metadata": {},
   "outputs": [
    {
     "data": {
      "text/plain": [
       "str"
      ]
     },
     "execution_count": 47,
     "metadata": {},
     "output_type": "execute_result"
    }
   ],
   "source": [
    "nome = 'Rodrigo'\n",
    "nome\n",
    "type(nome)"
   ]
  },
  {
   "cell_type": "code",
   "execution_count": 49,
   "id": "278a24ea",
   "metadata": {},
   "outputs": [
    {
     "data": {
      "text/plain": [
       "list"
      ]
     },
     "execution_count": 49,
     "metadata": {},
     "output_type": "execute_result"
    }
   ],
   "source": [
    "#Listas\n",
    "idades = [19,12,14,20]\n",
    "#         0  1  2  3\n",
    "#        -4 -3 -2 -1 --> Menos usual\n",
    "idades\n",
    "type(idades)"
   ]
  },
  {
   "cell_type": "code",
   "execution_count": 51,
   "id": "0b84f425",
   "metadata": {},
   "outputs": [
    {
     "data": {
      "text/plain": [
       "[12, 14, 20]"
      ]
     },
     "execution_count": 51,
     "metadata": {},
     "output_type": "execute_result"
    }
   ],
   "source": [
    "idades[2:]"
   ]
  },
  {
   "cell_type": "code",
   "execution_count": 54,
   "id": "c7f96a91",
   "metadata": {},
   "outputs": [
    {
     "data": {
      "text/plain": [
       "[19, 12]"
      ]
     },
     "execution_count": 54,
     "metadata": {},
     "output_type": "execute_result"
    }
   ],
   "source": [
    "idades[:2]"
   ]
  },
  {
   "cell_type": "code",
   "execution_count": 57,
   "id": "0f875096",
   "metadata": {},
   "outputs": [
    {
     "data": {
      "text/plain": [
       "20"
      ]
     },
     "execution_count": 57,
     "metadata": {},
     "output_type": "execute_result"
    }
   ],
   "source": [
    "idades[-1]"
   ]
  },
  {
   "cell_type": "markdown",
   "id": "93fe87a1",
   "metadata": {},
   "source": [
    "### Laços e Loops"
   ]
  },
  {
   "cell_type": "code",
   "execution_count": 58,
   "id": "73fe8265",
   "metadata": {},
   "outputs": [
    {
     "data": {
      "text/plain": [
       "[19, 12, 14, 20]"
      ]
     },
     "execution_count": 58,
     "metadata": {},
     "output_type": "execute_result"
    }
   ],
   "source": [
    "idades"
   ]
  },
  {
   "cell_type": "code",
   "execution_count": 61,
   "id": "c719e5f8",
   "metadata": {},
   "outputs": [
    {
     "name": "stdout",
     "output_type": "stream",
     "text": [
      "19 anos de idade, tem permissão para dirigir\n",
      "12 anos de idade,ainda não tem permissão de dirigir\n",
      "14 anos de idade,ainda não tem permissão de dirigir\n",
      "20 anos de idade, tem permissão para dirigir\n"
     ]
    }
   ],
   "source": [
    "# for fora da função\n",
    "def permissao_dirigir(idade_da_pessoa):\n",
    "    if idade >= 18:\n",
    "        print(f'{idade} anos de idade, tem permissão para dirigir')\n",
    "    else:\n",
    "        print(f'{idade} anos de idade,ainda não tem permissão de dirigir')\n",
    "for idade in idades:\n",
    "    permissao_dirigir(idade)\n"
   ]
  },
  {
   "cell_type": "code",
   "execution_count": 86,
   "id": "386e71c3",
   "metadata": {},
   "outputs": [
    {
     "name": "stdout",
     "output_type": "stream",
     "text": [
      "18 anos de idade, tem permissão para dirigir\n",
      "15 anos de idade,ainda não tem permissão de dirigir\n",
      "20 anos de idade, tem permissão para dirigir\n"
     ]
    }
   ],
   "source": [
    "#for dentro da função\n",
    "def verifica_se_pode_dirigir(idades):\n",
    "    for idade in idades:\n",
    "        if idade >= 18:\n",
    "            print(f'{idade} anos de idade, tem permissão para dirigir')\n",
    "        else:\n",
    "            print(f'{idade} anos de idade,ainda não tem permissão de dirigir') \n",
    "verifica_se_pode_dirigir(idades)"
   ]
  },
  {
   "cell_type": "markdown",
   "id": "b844a0b3",
   "metadata": {},
   "source": [
    "### Tipo boleano"
   ]
  },
  {
   "cell_type": "code",
   "execution_count": 87,
   "id": "c582af3c",
   "metadata": {},
   "outputs": [],
   "source": [
    "permissoes = []\n",
    "idades = [18,15,20]\n",
    "\n",
    "def verifica_dirigir(idades, permissoes):\n",
    "    for idade in idades:\n",
    "        if idade >= 18:\n",
    "            permissoes.append(True)\n",
    "        else:\n",
    "            permissoes.append(False)\n",
    "            \n",
    "verifica_dirigir(idades, permissoes)"
   ]
  },
  {
   "cell_type": "code",
   "execution_count": 85,
   "id": "3cff8139",
   "metadata": {},
   "outputs": [],
   "source": []
  },
  {
   "cell_type": "code",
   "execution_count": 90,
   "id": "710bcce7",
   "metadata": {},
   "outputs": [
    {
     "name": "stdout",
     "output_type": "stream",
     "text": [
      "O item é Rodrigo, e seu tipo:  <class 'str'>\n",
      "O item é 22, e seu tipo:  <class 'int'>\n",
      "O item é True, e seu tipo:  <class 'bool'>\n",
      "O item é 90.5, e seu tipo:  <class 'float'>\n"
     ]
    }
   ],
   "source": [
    "lista = ['Rodrigo', 22, True, 90.5]\n",
    "\n",
    "for i in lista:\n",
    "    print(f'O item é {i}, e seu tipo: ', type(i))\n"
   ]
  },
  {
   "cell_type": "markdown",
   "id": "f0e739ab",
   "metadata": {},
   "source": [
    "### Import biblioteca: Random"
   ]
  },
  {
   "cell_type": "code",
   "execution_count": 113,
   "id": "a85ce737",
   "metadata": {},
   "outputs": [],
   "source": [
    "from random import randrange, seed"
   ]
  },
  {
   "cell_type": "code",
   "execution_count": 115,
   "id": "cc6ce0b4",
   "metadata": {},
   "outputs": [],
   "source": [
    "seed(10)"
   ]
  },
  {
   "cell_type": "code",
   "execution_count": 116,
   "id": "8476974c",
   "metadata": {},
   "outputs": [
    {
     "data": {
      "text/plain": [
       "9"
      ]
     },
     "execution_count": 116,
     "metadata": {},
     "output_type": "execute_result"
    }
   ],
   "source": [
    "randrange(0,11)"
   ]
  },
  {
   "cell_type": "code",
   "execution_count": 118,
   "id": "645c17f1",
   "metadata": {},
   "outputs": [
    {
     "data": {
      "text/plain": [
       "[4, 10, 2, 0, 8, 7, 5, 1]"
      ]
     },
     "execution_count": 118,
     "metadata": {},
     "output_type": "execute_result"
    }
   ],
   "source": [
    "notas_math = []\n",
    "for i in range(8):\n",
    "    notas_math.append(randrange(0,11))\n",
    "notas_math"
   ]
  },
  {
   "cell_type": "markdown",
   "id": "9b9baa5c",
   "metadata": {},
   "source": [
    "### Import Matplotlib"
   ]
  },
  {
   "cell_type": "code",
   "execution_count": 121,
   "id": "ea26afb9",
   "metadata": {},
   "outputs": [],
   "source": [
    "import matplotlib.pyplot as plt"
   ]
  },
  {
   "cell_type": "code",
   "execution_count": 124,
   "id": "4c90fa0f",
   "metadata": {},
   "outputs": [
    {
     "data": {
      "text/plain": [
       "[1, 2, 3, 4, 5, 6, 7, 8]"
      ]
     },
     "execution_count": 124,
     "metadata": {},
     "output_type": "execute_result"
    }
   ],
   "source": [
    "x = list(range(1,9))\n",
    "x"
   ]
  },
  {
   "cell_type": "code",
   "execution_count": 128,
   "id": "b4785b90",
   "metadata": {},
   "outputs": [
    {
     "data": {
      "text/plain": [
       "[4, 10, 2, 0, 8, 7, 5, 1]"
      ]
     },
     "execution_count": 128,
     "metadata": {},
     "output_type": "execute_result"
    }
   ],
   "source": [
    "y = notas_math\n",
    "y"
   ]
  },
  {
   "cell_type": "code",
   "execution_count": 135,
   "id": "41a747c0",
   "metadata": {},
   "outputs": [
    {
     "data": {
      "image/png": "[encoded data removed]",
      "text/plain": [
       "<Figure size 432x288 with 1 Axes>"
      ]
     },
     "metadata": {
      "needs_background": "light"
     },
     "output_type": "display_data"
    }
   ],
   "source": [
    "plt.plot(x,y, marker='o')\n",
    "plt.title('Notas de matemática')\n",
    "plt.xlabel('Provas')\n",
    "plt.ylabel('Notas')\n",
    "plt.show()"
   ]
  },
  {
   "cell_type": "code",
   "execution_count": null,
   "id": "6c8bc950",
   "metadata": {},
   "outputs": [],
   "source": []
  }
 ],
 "metadata": {
  "kernelspec": {
   "display_name": "Python 3 (ipykernel)",
   "language": "python",
   "name": "python3"
  },
  "language_info": {
   "codemirror_mode": {
    "name": "ipython",
    "version": 3
   },
   "file_extension": ".py",
   "mimetype": "text/x-python",
   "name": "python",
   "nbconvert_exporter": "python",
   "pygments_lexer": "ipython3",
   "version": "3.9.12"
  }
 },
 "nbformat": 4,
 "nbformat_minor": 5
}
