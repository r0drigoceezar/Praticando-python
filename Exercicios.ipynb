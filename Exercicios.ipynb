{
 "cells": [
  {
   "cell_type": "markdown",
   "id": "3d6ac16e",
   "metadata": {},
   "source": [
    "1. Faça um Programa que verifique se uma letra digitada é vogal ou consoante."
   ]
  },
  {
   "cell_type": "code",
   "execution_count": 1,
   "id": "731ad32b",
   "metadata": {},
   "outputs": [
    {
     "name": "stdout",
     "output_type": "stream",
     "text": [
      "Digite uma letra: a\n",
      "É uma vogal\n"
     ]
    }
   ],
   "source": [
    "vogal = ['a','e','i','o','u']\n",
    "letra = input(\"Digite uma letra: \")\n",
    "\n",
    "if letra in vogal:\n",
    "    print('É uma vogal')\n",
    "else:\n",
    "    print('É uma consoante')"
   ]
  },
  {
   "cell_type": "markdown",
   "id": "a50d2aba",
   "metadata": {},
   "source": [
    "2. Faça um programa que pede duas notas de um aluno. Em seguida ele deve calcular a média do aluno e dar o seguinte resultado:\n",
    "\n",
    "    - A mensagem \"Aprovado\", se a média alcançada for maior ou igual a sete;\n",
    "    - A mensagem \"Reprovado\", se a média for menor do que sete;\n",
    "    - A mensagem \"Aprovado com Distinção\", se a média for igual a dez."
   ]
  },
  {
   "cell_type": "code",
   "execution_count": 22,
   "id": "6292f833",
   "metadata": {},
   "outputs": [
    {
     "name": "stdout",
     "output_type": "stream",
     "text": [
      "Digite um nota do nap 1: 10\n",
      "Digite um nota do nap 2: 10\n",
      "10.0\n",
      "Aprovado com Distinção\n"
     ]
    }
   ],
   "source": [
    "nota1 = int(input('Digite um nota do nap 1: '))\n",
    "nota2 = int(input('Digite um nota do nap 2: '))\n",
    "\n",
    "media = (nota1 + nota2)/2\n",
    "print(media)\n",
    "\n",
    "if media == 10:\n",
    "    print('Aprovado com Distinção')\n",
    "elif media >= 7:\n",
    "    print('Aprovado')\n",
    "else:\n",
    "    print(\"Reprovado\")"
   ]
  },
  {
   "cell_type": "code",
   "execution_count": null,
   "id": "88bbe268",
   "metadata": {},
   "outputs": [],
   "source": []
  }
 ],
 "metadata": {
  "kernelspec": {
   "display_name": "Python 3 (ipykernel)",
   "language": "python",
   "name": "python3"
  },
  "language_info": {
   "codemirror_mode": {
    "name": "ipython",
    "version": 3
   },
   "file_extension": ".py",
   "mimetype": "text/x-python",
   "name": "python",
   "nbconvert_exporter": "python",
   "pygments_lexer": "ipython3",
   "version": "3.9.7"
  }
 },
 "nbformat": 4,
 "nbformat_minor": 5
}
