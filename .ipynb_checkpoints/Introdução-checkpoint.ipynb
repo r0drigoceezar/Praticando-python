{
 "cells": [
  {
   "cell_type": "markdown",
   "id": "3486837c",
   "metadata": {},
   "source": [
    "## Introdução "
   ]
  },
  {
   "cell_type": "code",
   "execution_count": 1,
   "id": "04a9dd36",
   "metadata": {},
   "outputs": [],
   "source": [
    "## Atalhos\n",
    "# Crtl + ENTER - Executa\n",
    "# Shift + ENTER - Cria outra linha"
   ]
  },
  {
   "cell_type": "code",
   "execution_count": 3,
   "id": "ec9db718",
   "metadata": {},
   "outputs": [
    {
     "name": "stdout",
     "output_type": "stream",
     "text": [
      "Rodrigo\n",
      "22\n",
      "98.7\n"
     ]
    }
   ],
   "source": [
    "# Imprimir valores\n",
    "print('Rodrigo')\n",
    "print(22)\n",
    "print(98.7)"
   ]
  },
  {
   "cell_type": "code",
   "execution_count": 18,
   "id": "a1a7442d",
   "metadata": {},
   "outputs": [
    {
     "name": "stdout",
     "output_type": "stream",
     "text": [
      "7\n",
      "-1\n",
      "4\n",
      "12.4\n",
      "12\n",
      "2.0\n",
      "1\n"
     ]
    }
   ],
   "source": [
    "# Operações Matemáticas Basicas\n",
    "print(3 + 4 ) # soma\n",
    "print(3 - 4 ) # subtração\n",
    "print(2*2) # produto\n",
    "print(3.1 * 4 ) #produto \n",
    "print(int(3.1 * 4)) # produto inteiro\n",
    "print(6/3) # divisão\n",
    "print(7%3) #resto da divisão "
   ]
  },
  {
   "cell_type": "code",
   "execution_count": 32,
   "id": "217f8e18",
   "metadata": {},
   "outputs": [
    {
     "name": "stdout",
     "output_type": "stream",
     "text": [
      "meu nome é rodrigo\n",
      "meu nome é rodrigo\n",
      "True\n",
      "False\n",
      "3\n"
     ]
    }
   ],
   "source": [
    "# String = Texto\n",
    "print('meu nome é rodrigo')\n",
    "print('meu nome é'+' rodrigo') #concatenação\n",
    "print('d' in 'rodrigo') # d está contido no 'rodrigo'? true = sim false = não\n",
    "print('Carlos' in 'Rodrigo tem 22 anos')\n",
    "print(1 + 2) # espaçamento"
   ]
  },
  {
   "cell_type": "code",
   "execution_count": 42,
   "id": "92cdbcdf",
   "metadata": {},
   "outputs": [
    {
     "name": "stdout",
     "output_type": "stream",
     "text": [
      "1500\n",
      "Vieira\n"
     ]
    }
   ],
   "source": [
    "#Variáveis = dar um nome a um valor especifico\n",
    "qtd_vendas = 1500 # qtd_vendas recebe 1500\n",
    "nome = 'Vieira'\n",
    "print(qtd_vendas) #mostrar os valores de vendas\n",
    "print(nome)"
   ]
  },
  {
   "cell_type": "code",
   "execution_count": 49,
   "id": "bc24dbf3",
   "metadata": {},
   "outputs": [],
   "source": [
    "#operações com variáveis\n",
    "faturamento = 200\n",
    "custo = 60"
   ]
  },
  {
   "cell_type": "code",
   "execution_count": 52,
   "id": "48a9c403",
   "metadata": {},
   "outputs": [
    {
     "data": {
      "text/plain": [
       "140"
      ]
     },
     "execution_count": 52,
     "metadata": {},
     "output_type": "execute_result"
    }
   ],
   "source": [
    "lucro = faturamento - custo\n",
    "lucro"
   ]
  },
  {
   "cell_type": "code",
   "execution_count": 1,
   "id": "2c9bef07",
   "metadata": {},
   "outputs": [
    {
     "name": "stdout",
     "output_type": "stream",
     "text": [
      "Qual seu nome? \n",
      "Rodrigo\n",
      "E qual seu sobrenome? \n",
      "Cruz\n"
     ]
    }
   ],
   "source": [
    "# interação com o usuário\n",
    "nome = input('Qual seu nome? \\n')\n",
    "sobrenome = input('E qual seu sobrenome? \\n')"
   ]
  },
  {
   "cell_type": "code",
   "execution_count": 3,
   "id": "7a6f7729",
   "metadata": {},
   "outputs": [
    {
     "name": "stdout",
     "output_type": "stream",
     "text": [
      "Rodrigo Cruz\n"
     ]
    }
   ],
   "source": [
    "print(nome + ' ' + sobrenome)"
   ]
  },
  {
   "cell_type": "code",
   "execution_count": 4,
   "id": "fe05e1ff",
   "metadata": {},
   "outputs": [],
   "source": [
    "# Quando bugar na parte de interação com o usuário\n",
    "# Apertar stop (O quadradinho)\n",
    "# Ou kernel - Restart"
   ]
  },
  {
   "cell_type": "code",
   "execution_count": 5,
   "id": "bc09a650",
   "metadata": {},
   "outputs": [],
   "source": [
    "# TIPOS DE VARIAVEIS NO PYTHON\n",
    "numero = 10  # int - inteiro\n",
    "n_real = 10.4 # float - n com casa decimal\n",
    "texto = 'Rodrigo' # string - texto\n",
    "boleano = True # bool ou bolean --> True or False"
   ]
  },
  {
   "cell_type": "code",
   "execution_count": 11,
   "id": "9caf7f03",
   "metadata": {},
   "outputs": [
    {
     "name": "stdout",
     "output_type": "stream",
     "text": [
      "<class 'int'>\n",
      "<class 'float'>\n",
      "<class 'str'>\n",
      "<class 'bool'>\n"
     ]
    }
   ],
   "source": [
    "print(type(numero))\n",
    "print(type(n_real))\n",
    "print(type(texto))\n",
    "print(type(boleano))"
   ]
  },
  {
   "cell_type": "code",
   "execution_count": 20,
   "id": "991ede6a",
   "metadata": {},
   "outputs": [
    {
     "name": "stdout",
     "output_type": "stream",
     "text": [
      "O faturamento foi: 1000\n",
      "O custo da loja foi: 600 reais\n",
      "Assim, o lucro da loja foi: 400 reais\n"
     ]
    }
   ],
   "source": [
    "#Misturando Variaveis\n",
    "faturamento = 1000\n",
    "custo = 600\n",
    "lucro = faturamento - custo\n",
    "print('O faturamento foi: ' + str(faturamento)) # concatenando string + int (variavel)\n",
    "print('O custo da loja foi: ' + str(custo) + ' reais')\n",
    "print('Assim, o lucro da loja foi: ' + str(lucro) + ' reais')"
   ]
  },
  {
   "cell_type": "code",
   "execution_count": 1,
   "id": "fcb22afc",
   "metadata": {},
   "outputs": [
    {
     "name": "stdout",
     "output_type": "stream",
     "text": [
      "O faturamento da loja foi 1000\n",
      "O faturamento da loja foi 1000. O custo da loja foi 600. E o lucro foi: 400\n"
     ]
    }
   ],
   "source": [
    "#Comando FORMAT (Melhor metodo)\n",
    "faturamento = 1000\n",
    "custo = 600\n",
    "lucro = faturamento - custo\n",
    "\n",
    "print('O faturamento da loja foi {}'.format(faturamento))\n",
    "print('O faturamento da loja foi {}. O custo da loja foi {}. E o lucro foi: {}'.format(faturamento,custo,lucro))"
   ]
  },
  {
   "cell_type": "markdown",
   "id": "a8f45106",
   "metadata": {},
   "source": [
    "# Comparadores\n",
    "\n",
    "- == igual\n",
    "\n",
    "- != diferente\n",
    "\n",
    "- (>) maior que (>= maior ou igual)\n",
    "\n",
    "- < menor que (<= menor ou igual)\n",
    "\n",
    "- in texto dentro de outro texto\n",
    "\n",
    "- not verifica o contrário da comparação\n",
    "\n",
    "- pass para n fazer nada "
   ]
  },
  {
   "cell_type": "code",
   "execution_count": null,
   "id": "71ae94d2",
   "metadata": {},
   "outputs": [],
   "source": []
  }
 ],
 "metadata": {
  "kernelspec": {
   "display_name": "Python 3 (ipykernel)",
   "language": "python",
   "name": "python3"
  },
  "language_info": {
   "codemirror_mode": {
    "name": "ipython",
    "version": 3
   },
   "file_extension": ".py",
   "mimetype": "text/x-python",
   "name": "python",
   "nbconvert_exporter": "python",
   "pygments_lexer": "ipython3",
   "version": "3.9.7"
  }
 },
 "nbformat": 4,
 "nbformat_minor": 5
}
